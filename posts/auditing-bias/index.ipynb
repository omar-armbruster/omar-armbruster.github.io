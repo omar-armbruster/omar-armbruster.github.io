{
 "cells": [
  {
   "cell_type": "markdown",
   "metadata": {},
   "source": [
    "---\n",
    "title: Auditing Bias\n",
    "author: Omar Armbruster\n",
    "date: '2025-03-12'\n",
    "image: \"images.jpg\"\n",
    "description: Analyzing Implicit Bias in Machine Learning Models\n",
    "format: html\n",
    "execute:\n",
    "    message: false\n",
    "    warning: false\n",
    "---"
   ]
  },
  {
   "cell_type": "markdown",
   "metadata": {},
   "source": [
    "# Introduction\n",
    "Machine learning models show potential to revolutionize automated decision-making processes and have already made their way into many of our daily lives through technologies like personalized recommendations, face identification, and self-driving cars. However, these models can also pose extreme dangers, as the models are only as good as the data they are trained on and can very easily reinforce existing injustices in our society. Even when certain traits like race are omitted from the training process, models can predict these traits from other features and still reinforce societal norms that we are trying to avoid. We demonstrate this by training a Decision Tree Classifier model on a dataset of responses to the 2018 Public Use Microdata Sample survey in New York and use it to predict whether an individual is likely to employed. We omit race from our training features and then audit our model to determine if it is truly independent from race. We examine three methods of fairness: calibration, error rate balance, and statistical parity, as well as examine feasible false negative and false positive rates."
   ]
  },
  {
   "cell_type": "markdown",
   "metadata": {},
   "source": [
    "We begin by importing the folktables package, which we use to import our data. We specify that we are examining responses from 2018 in the state of New York when fetching our data."
   ]
  },
  {
   "cell_type": "code",
   "execution_count": 2,
   "metadata": {},
   "outputs": [
    {
     "data": {
      "text/html": [
       "<div>\n",
       "<style scoped>\n",
       "    .dataframe tbody tr th:only-of-type {\n",
       "        vertical-align: middle;\n",
       "    }\n",
       "\n",
       "    .dataframe tbody tr th {\n",
       "        vertical-align: top;\n",
       "    }\n",
       "\n",
       "    .dataframe thead th {\n",
       "        text-align: right;\n",
       "    }\n",
       "</style>\n",
       "<table border=\"1\" class=\"dataframe\">\n",
       "  <thead>\n",
       "    <tr style=\"text-align: right;\">\n",
       "      <th></th>\n",
       "      <th>RT</th>\n",
       "      <th>SERIALNO</th>\n",
       "      <th>DIVISION</th>\n",
       "      <th>SPORDER</th>\n",
       "      <th>PUMA</th>\n",
       "      <th>REGION</th>\n",
       "      <th>ST</th>\n",
       "      <th>ADJINC</th>\n",
       "      <th>PWGTP</th>\n",
       "      <th>AGEP</th>\n",
       "      <th>...</th>\n",
       "      <th>PWGTP71</th>\n",
       "      <th>PWGTP72</th>\n",
       "      <th>PWGTP73</th>\n",
       "      <th>PWGTP74</th>\n",
       "      <th>PWGTP75</th>\n",
       "      <th>PWGTP76</th>\n",
       "      <th>PWGTP77</th>\n",
       "      <th>PWGTP78</th>\n",
       "      <th>PWGTP79</th>\n",
       "      <th>PWGTP80</th>\n",
       "    </tr>\n",
       "  </thead>\n",
       "  <tbody>\n",
       "    <tr>\n",
       "      <th>0</th>\n",
       "      <td>P</td>\n",
       "      <td>2018GQ0000012</td>\n",
       "      <td>2</td>\n",
       "      <td>1</td>\n",
       "      <td>3802</td>\n",
       "      <td>1</td>\n",
       "      <td>36</td>\n",
       "      <td>1013097</td>\n",
       "      <td>145</td>\n",
       "      <td>26</td>\n",
       "      <td>...</td>\n",
       "      <td>146</td>\n",
       "      <td>146</td>\n",
       "      <td>21</td>\n",
       "      <td>24</td>\n",
       "      <td>266</td>\n",
       "      <td>263</td>\n",
       "      <td>21</td>\n",
       "      <td>146</td>\n",
       "      <td>265</td>\n",
       "      <td>144</td>\n",
       "    </tr>\n",
       "    <tr>\n",
       "      <th>1</th>\n",
       "      <td>P</td>\n",
       "      <td>2018GQ0000040</td>\n",
       "      <td>2</td>\n",
       "      <td>1</td>\n",
       "      <td>2702</td>\n",
       "      <td>1</td>\n",
       "      <td>36</td>\n",
       "      <td>1013097</td>\n",
       "      <td>43</td>\n",
       "      <td>21</td>\n",
       "      <td>...</td>\n",
       "      <td>6</td>\n",
       "      <td>42</td>\n",
       "      <td>43</td>\n",
       "      <td>7</td>\n",
       "      <td>40</td>\n",
       "      <td>6</td>\n",
       "      <td>43</td>\n",
       "      <td>40</td>\n",
       "      <td>42</td>\n",
       "      <td>6</td>\n",
       "    </tr>\n",
       "    <tr>\n",
       "      <th>2</th>\n",
       "      <td>P</td>\n",
       "      <td>2018GQ0000060</td>\n",
       "      <td>2</td>\n",
       "      <td>1</td>\n",
       "      <td>2001</td>\n",
       "      <td>1</td>\n",
       "      <td>36</td>\n",
       "      <td>1013097</td>\n",
       "      <td>88</td>\n",
       "      <td>18</td>\n",
       "      <td>...</td>\n",
       "      <td>88</td>\n",
       "      <td>163</td>\n",
       "      <td>161</td>\n",
       "      <td>162</td>\n",
       "      <td>87</td>\n",
       "      <td>12</td>\n",
       "      <td>162</td>\n",
       "      <td>88</td>\n",
       "      <td>87</td>\n",
       "      <td>88</td>\n",
       "    </tr>\n",
       "    <tr>\n",
       "      <th>3</th>\n",
       "      <td>P</td>\n",
       "      <td>2018GQ0000081</td>\n",
       "      <td>2</td>\n",
       "      <td>1</td>\n",
       "      <td>2401</td>\n",
       "      <td>1</td>\n",
       "      <td>36</td>\n",
       "      <td>1013097</td>\n",
       "      <td>109</td>\n",
       "      <td>85</td>\n",
       "      <td>...</td>\n",
       "      <td>17</td>\n",
       "      <td>15</td>\n",
       "      <td>111</td>\n",
       "      <td>107</td>\n",
       "      <td>17</td>\n",
       "      <td>196</td>\n",
       "      <td>109</td>\n",
       "      <td>200</td>\n",
       "      <td>198</td>\n",
       "      <td>111</td>\n",
       "    </tr>\n",
       "    <tr>\n",
       "      <th>4</th>\n",
       "      <td>P</td>\n",
       "      <td>2018GQ0000103</td>\n",
       "      <td>2</td>\n",
       "      <td>1</td>\n",
       "      <td>1400</td>\n",
       "      <td>1</td>\n",
       "      <td>36</td>\n",
       "      <td>1013097</td>\n",
       "      <td>83</td>\n",
       "      <td>19</td>\n",
       "      <td>...</td>\n",
       "      <td>81</td>\n",
       "      <td>12</td>\n",
       "      <td>80</td>\n",
       "      <td>154</td>\n",
       "      <td>12</td>\n",
       "      <td>80</td>\n",
       "      <td>12</td>\n",
       "      <td>83</td>\n",
       "      <td>152</td>\n",
       "      <td>154</td>\n",
       "    </tr>\n",
       "  </tbody>\n",
       "</table>\n",
       "<p>5 rows × 286 columns</p>\n",
       "</div>"
      ],
      "text/plain": [
       "  RT       SERIALNO  DIVISION  SPORDER  PUMA  REGION  ST   ADJINC  PWGTP  \\\n",
       "0  P  2018GQ0000012         2        1  3802       1  36  1013097    145   \n",
       "1  P  2018GQ0000040         2        1  2702       1  36  1013097     43   \n",
       "2  P  2018GQ0000060         2        1  2001       1  36  1013097     88   \n",
       "3  P  2018GQ0000081         2        1  2401       1  36  1013097    109   \n",
       "4  P  2018GQ0000103         2        1  1400       1  36  1013097     83   \n",
       "\n",
       "   AGEP  ...  PWGTP71  PWGTP72  PWGTP73  PWGTP74  PWGTP75  PWGTP76  PWGTP77  \\\n",
       "0    26  ...      146      146       21       24      266      263       21   \n",
       "1    21  ...        6       42       43        7       40        6       43   \n",
       "2    18  ...       88      163      161      162       87       12      162   \n",
       "3    85  ...       17       15      111      107       17      196      109   \n",
       "4    19  ...       81       12       80      154       12       80       12   \n",
       "\n",
       "   PWGTP78  PWGTP79  PWGTP80  \n",
       "0      146      265      144  \n",
       "1       40       42        6  \n",
       "2       88       87       88  \n",
       "3      200      198      111  \n",
       "4       83      152      154  \n",
       "\n",
       "[5 rows x 286 columns]"
      ]
     },
     "execution_count": 2,
     "metadata": {},
     "output_type": "execute_result"
    }
   ],
   "source": [
    "from folktables import ACSDataSource, ACSEmployment, BasicProblem, adult_filter\n",
    "import numpy as np\n",
    "\n",
    "STATE = \"NY\"\n",
    "\n",
    "data_source = ACSDataSource(survey_year='2018', \n",
    "                            horizon='1-Year', \n",
    "                            survey='person')\n",
    "\n",
    "acs_data = data_source.get_data(states=[STATE], download=True)\n",
    "\n",
    "acs_data.head()"
   ]
  },
  {
   "cell_type": "markdown",
   "metadata": {},
   "source": [
    "For the sake of simplicity, we can select specific features to train our model on. We select the following:\n",
    "\n",
    "* AGEP - Age\n",
    "* SCHL - Educational attainment\n",
    "* MAR - Marital status\n",
    "* RELP - Relationship to reference person\n",
    "* DIS - Disability \n",
    "* ESP - Employment status of parents\n",
    "* CIT - Citizenship stats\n",
    "* MIG - Mobility status\n",
    "* MIL - Military service\n",
    "* ANC - Ancestry\n",
    "* NATIVITY - Nativity \n",
    "* DEAR - Hearing difficulty\n",
    "* DEYE - Vision difficulty\n",
    "* DREM - Cognitive difficulty\n",
    "* SEX - Sex\n",
    "* RAC1P - Race\n",
    "* ESR - Employment status "
   ]
  },
  {
   "cell_type": "code",
   "execution_count": 3,
   "metadata": {},
   "outputs": [
    {
     "data": {
      "text/html": [
       "<div>\n",
       "<style scoped>\n",
       "    .dataframe tbody tr th:only-of-type {\n",
       "        vertical-align: middle;\n",
       "    }\n",
       "\n",
       "    .dataframe tbody tr th {\n",
       "        vertical-align: top;\n",
       "    }\n",
       "\n",
       "    .dataframe thead th {\n",
       "        text-align: right;\n",
       "    }\n",
       "</style>\n",
       "<table border=\"1\" class=\"dataframe\">\n",
       "  <thead>\n",
       "    <tr style=\"text-align: right;\">\n",
       "      <th></th>\n",
       "      <th>AGEP</th>\n",
       "      <th>SCHL</th>\n",
       "      <th>MAR</th>\n",
       "      <th>RELP</th>\n",
       "      <th>DIS</th>\n",
       "      <th>ESP</th>\n",
       "      <th>CIT</th>\n",
       "      <th>MIG</th>\n",
       "      <th>MIL</th>\n",
       "      <th>ANC</th>\n",
       "      <th>NATIVITY</th>\n",
       "      <th>DEAR</th>\n",
       "      <th>DEYE</th>\n",
       "      <th>DREM</th>\n",
       "      <th>SEX</th>\n",
       "      <th>RAC1P</th>\n",
       "      <th>ESR</th>\n",
       "    </tr>\n",
       "  </thead>\n",
       "  <tbody>\n",
       "    <tr>\n",
       "      <th>0</th>\n",
       "      <td>26</td>\n",
       "      <td>21.0</td>\n",
       "      <td>5</td>\n",
       "      <td>17</td>\n",
       "      <td>2</td>\n",
       "      <td>NaN</td>\n",
       "      <td>5</td>\n",
       "      <td>1.0</td>\n",
       "      <td>4.0</td>\n",
       "      <td>1</td>\n",
       "      <td>2</td>\n",
       "      <td>2</td>\n",
       "      <td>2</td>\n",
       "      <td>2.0</td>\n",
       "      <td>2</td>\n",
       "      <td>1</td>\n",
       "      <td>6.0</td>\n",
       "    </tr>\n",
       "    <tr>\n",
       "      <th>1</th>\n",
       "      <td>21</td>\n",
       "      <td>20.0</td>\n",
       "      <td>5</td>\n",
       "      <td>17</td>\n",
       "      <td>2</td>\n",
       "      <td>NaN</td>\n",
       "      <td>1</td>\n",
       "      <td>3.0</td>\n",
       "      <td>4.0</td>\n",
       "      <td>1</td>\n",
       "      <td>1</td>\n",
       "      <td>2</td>\n",
       "      <td>2</td>\n",
       "      <td>2.0</td>\n",
       "      <td>1</td>\n",
       "      <td>1</td>\n",
       "      <td>1.0</td>\n",
       "    </tr>\n",
       "    <tr>\n",
       "      <th>2</th>\n",
       "      <td>18</td>\n",
       "      <td>16.0</td>\n",
       "      <td>5</td>\n",
       "      <td>17</td>\n",
       "      <td>2</td>\n",
       "      <td>NaN</td>\n",
       "      <td>2</td>\n",
       "      <td>3.0</td>\n",
       "      <td>4.0</td>\n",
       "      <td>1</td>\n",
       "      <td>1</td>\n",
       "      <td>2</td>\n",
       "      <td>2</td>\n",
       "      <td>2.0</td>\n",
       "      <td>2</td>\n",
       "      <td>8</td>\n",
       "      <td>6.0</td>\n",
       "    </tr>\n",
       "    <tr>\n",
       "      <th>3</th>\n",
       "      <td>85</td>\n",
       "      <td>16.0</td>\n",
       "      <td>2</td>\n",
       "      <td>16</td>\n",
       "      <td>1</td>\n",
       "      <td>NaN</td>\n",
       "      <td>1</td>\n",
       "      <td>1.0</td>\n",
       "      <td>4.0</td>\n",
       "      <td>4</td>\n",
       "      <td>1</td>\n",
       "      <td>1</td>\n",
       "      <td>2</td>\n",
       "      <td>1.0</td>\n",
       "      <td>2</td>\n",
       "      <td>1</td>\n",
       "      <td>6.0</td>\n",
       "    </tr>\n",
       "    <tr>\n",
       "      <th>4</th>\n",
       "      <td>19</td>\n",
       "      <td>19.0</td>\n",
       "      <td>5</td>\n",
       "      <td>17</td>\n",
       "      <td>2</td>\n",
       "      <td>NaN</td>\n",
       "      <td>1</td>\n",
       "      <td>1.0</td>\n",
       "      <td>4.0</td>\n",
       "      <td>2</td>\n",
       "      <td>1</td>\n",
       "      <td>2</td>\n",
       "      <td>2</td>\n",
       "      <td>2.0</td>\n",
       "      <td>2</td>\n",
       "      <td>1</td>\n",
       "      <td>1.0</td>\n",
       "    </tr>\n",
       "  </tbody>\n",
       "</table>\n",
       "</div>"
      ],
      "text/plain": [
       "   AGEP  SCHL  MAR  RELP  DIS  ESP  CIT  MIG  MIL  ANC  NATIVITY  DEAR  DEYE  \\\n",
       "0    26  21.0    5    17    2  NaN    5  1.0  4.0    1         2     2     2   \n",
       "1    21  20.0    5    17    2  NaN    1  3.0  4.0    1         1     2     2   \n",
       "2    18  16.0    5    17    2  NaN    2  3.0  4.0    1         1     2     2   \n",
       "3    85  16.0    2    16    1  NaN    1  1.0  4.0    4         1     1     2   \n",
       "4    19  19.0    5    17    2  NaN    1  1.0  4.0    2         1     2     2   \n",
       "\n",
       "   DREM  SEX  RAC1P  ESR  \n",
       "0   2.0    2      1  6.0  \n",
       "1   2.0    1      1  1.0  \n",
       "2   2.0    2      8  6.0  \n",
       "3   1.0    2      1  6.0  \n",
       "4   2.0    2      1  1.0  "
      ]
     },
     "execution_count": 3,
     "metadata": {},
     "output_type": "execute_result"
    }
   ],
   "source": [
    "possible_features=['AGEP', 'SCHL', 'MAR', 'RELP', 'DIS', 'ESP', 'CIT', 'MIG', 'MIL', 'ANC', 'NATIVITY', 'DEAR', 'DEYE', 'DREM', 'SEX', 'RAC1P', 'ESR']\n",
    "acs_data[possible_features].head()"
   ]
  },
  {
   "cell_type": "markdown",
   "metadata": {},
   "source": [
    "We use the selected features to define our training dataset but exclude employment status (the target variable) and race, which we claim the model will be able to implicitly determine. We define a problem, which specifies our target and hidden features (employment and race).\n",
    "\n",
    "Looking briefly at our data, it appears we have $196,967$ observations (people) measured with $15$ features. We confirm that our created feature, label, and group objects all have the same length, as each entry should correspond to a single person."
   ]
  },
  {
   "cell_type": "code",
   "execution_count": 4,
   "metadata": {},
   "outputs": [
    {
     "name": "stdout",
     "output_type": "stream",
     "text": [
      "(196967, 15)\n",
      "(196967,)\n",
      "(196967,)\n"
     ]
    }
   ],
   "source": [
    "features_to_use = [f for f in possible_features if f not in [\"ESR\", \"RAC1P\"]]\n",
    "EmploymentProblem = BasicProblem(\n",
    "    features=features_to_use,\n",
    "    target='ESR',\n",
    "    target_transform=lambda x: x == 1,\n",
    "    group='RAC1P',\n",
    "    preprocess=lambda x: x,\n",
    "    postprocess=lambda x: np.nan_to_num(x, -1),\n",
    ")\n",
    "\n",
    "features, label, group = EmploymentProblem.df_to_numpy(acs_data)\n",
    "\n",
    "for obj in [features, label, group]:\n",
    "  print(obj.shape)"
   ]
  },
  {
   "cell_type": "markdown",
   "metadata": {},
   "source": [
    "As is good machine learning practice, we define a testing and training dataset so we can later evaluate how our model performs on unseen data."
   ]
  },
  {
   "cell_type": "code",
   "execution_count": 5,
   "metadata": {},
   "outputs": [],
   "source": [
    "from sklearn.model_selection import train_test_split\n",
    "X_train, X_test, y_train, y_test, group_train, group_test = train_test_split(\n",
    "    features, label, group, test_size=0.2, random_state=0)"
   ]
  },
  {
   "cell_type": "markdown",
   "metadata": {},
   "source": [
    "For later analysis, we create a function that modifies our training and testing datasets, which only include the training features. We add both the group (race) and label (employment status) columns to the new dataset as well as modify encoded labels to labels that we can understand. For the sake of analyzing sufficiently large racial groups, we sort groups into White, African American, Asian, and Other."
   ]
  },
  {
   "cell_type": "code",
   "execution_count": 6,
   "metadata": {},
   "outputs": [],
   "source": [
    "import pandas as pd\n",
    "def format_data(df, features_to_use, group, labels):\n",
    "    new_df = pd.DataFrame(df, columns = features_to_use)\n",
    "    new_df['group'] = group\n",
    "    new_df['employed'] = labels\n",
    "    new_df['SEX'] = new_df['SEX'].replace({1.0: 'Male', 2.0: 'Female'})\n",
    "    new_df['group'] = new_df['group'].replace({1.0: 'White', \n",
    "                                               2.0: 'African American',\n",
    "                                               3.0: 'Other Race',\n",
    "                                               4.0: 'Other Race',\n",
    "                                               5.0: 'Other Race',\n",
    "                                               6.0: 'Asian',\n",
    "                                               7.0: 'Other Race',\n",
    "                                               8.0: 'Other Race',\n",
    "                                               9.0: 'Other Race'})\n",
    "\n",
    "    return new_df"
   ]
  },
  {
   "cell_type": "markdown",
   "metadata": {},
   "source": [
    "A quick examination of the training data shows that each of our racial groups are in the same order of magnitude with the exception of the White group, which has significantly more people in it."
   ]
  },
  {
   "cell_type": "code",
   "execution_count": 7,
   "metadata": {},
   "outputs": [
    {
     "data": {
      "text/plain": [
       "group\n",
       "African American     19200\n",
       "Asian                13633\n",
       "Other Race           13904\n",
       "White               110836\n",
       "dtype: int64"
      ]
     },
     "execution_count": 7,
     "metadata": {},
     "output_type": "execute_result"
    }
   ],
   "source": [
    "df_train = format_data(X_train, features_to_use, group_train, y_train)\n",
    "df_train.groupby('group').size()"
   ]
  },
  {
   "cell_type": "markdown",
   "metadata": {},
   "source": [
    "Using this dataframe, we can determine the population of the training dataset, which we find to be $157573$ people."
   ]
  },
  {
   "cell_type": "code",
   "execution_count": 8,
   "metadata": {},
   "outputs": [
    {
     "data": {
      "text/plain": [
       "157573"
      ]
     },
     "execution_count": 8,
     "metadata": {},
     "output_type": "execute_result"
    }
   ],
   "source": [
    "population = df_train.shape[0]\n",
    "population"
   ]
  },
  {
   "cell_type": "markdown",
   "metadata": {},
   "source": [
    "Of these individuals, roughly $46.5\\%$ people are employed. This rate is likely so low because we included children in our data, the majority of whom are unemployed."
   ]
  },
  {
   "cell_type": "code",
   "execution_count": 9,
   "metadata": {},
   "outputs": [
    {
     "data": {
      "text/plain": [
       "0.4649400595279648"
      ]
     },
     "execution_count": 9,
     "metadata": {},
     "output_type": "execute_result"
    }
   ],
   "source": [
    "df_train['employed'].mean()"
   ]
  },
  {
   "cell_type": "markdown",
   "metadata": {},
   "source": [
    "We can also analyze the proportion of each race in our population. As we saw in the population counts above, African Americans, Asians, and Other Racial groups each make up a similar amount of the population with $11.0\\%$, $9.3\\%$, and $7.9\\%$ respectively, while White people make up the remaining $71.8\\%$ of the population."
   ]
  },
  {
   "cell_type": "code",
   "execution_count": 10,
   "metadata": {},
   "outputs": [
    {
     "data": {
      "text/plain": [
       "group\n",
       "African American    0.109607\n",
       "Asian               0.092517\n",
       "Other Race          0.079277\n",
       "White               0.718599\n",
       "dtype: float64"
      ]
     },
     "execution_count": 10,
     "metadata": {},
     "output_type": "execute_result"
    }
   ],
   "source": [
    "df_train[df_train['employed'] == 1].groupby('group').size()/df_train[df_train['employed'] == 1].shape[0]"
   ]
  },
  {
   "cell_type": "markdown",
   "metadata": {},
   "source": [
    "Despite variances in the size of each racial group, we observe roughly equal employment rates across groups such that $41.8\\%$ of African Americans are employed, $49.7\\%$ of Asians are employed, $47.5\\%$ of Whites are employed, and $41.8\\%$ of individuals in other racial groups are employed. These values will be important later for when we audit our model to determine how consistent the predicted employment rates are with reality."
   ]
  },
  {
   "cell_type": "code",
   "execution_count": 11,
   "metadata": {},
   "outputs": [
    {
     "data": {
      "text/plain": [
       "group\n",
       "African American    0.418229\n",
       "Asian               0.497176\n",
       "Other Race          0.417722\n",
       "White               0.474990\n",
       "Name: employed, dtype: float64"
      ]
     },
     "execution_count": 11,
     "metadata": {},
     "output_type": "execute_result"
    }
   ],
   "source": [
    "df_train.groupby('group')['employed'].mean()"
   ]
  },
  {
   "cell_type": "markdown",
   "metadata": {},
   "source": [
    "It is also worth checking for intersectional trends by breaking down the proportion of people employed by sex as well as race. This can help us determine if race is the major factor in disparities between groups or if there are other contributing factors within racials groups. Based on our bar plot below, women and men tend to make up roughly similar proportions of the workforce within their race, indicating that there is not a signficant difference in employment by sex like there is with race (with Whites making up the largest portion of the workforce)."
   ]
  },
  {
   "cell_type": "code",
   "execution_count": 12,
   "metadata": {},
   "outputs": [
    {
     "data": {
      "text/plain": [
       "[Text(0.5, 1.0, 'Workforce Composition')]"
      ]
     },
     "execution_count": 12,
     "metadata": {},
     "output_type": "execute_result"
    },
    {
     "data": {
      "image/png": "[encoded data removed]",
      "text/plain": [
       "<Figure size 640x480 with 1 Axes>"
      ]
     },
     "metadata": {},
     "output_type": "display_data"
    }
   ],
   "source": [
    "import seaborn as sns\n",
    "import seaborn.objects as so\n",
    "\n",
    "prop = (df_train[df_train['employed'] == 1].groupby(['group', 'SEX']).size()/df_train[df_train['employed'] == 1].shape[0]).reset_index(name = 'Proportion of workforce')\n",
    "p1 = sns.barplot(data = prop,\n",
    "                 x = 'group',\n",
    "                 y = 'Proportion of workforce',\n",
    "                 hue = 'SEX',\n",
    "                 palette='Set2')\n",
    "p1.set(title = 'Workforce Composition')"
   ]
  },
  {
   "cell_type": "markdown",
   "metadata": {},
   "source": [
    "# Fitting a Model\n",
    "Now to train our model. We have chosen to use a Decision Tree Classifer Model. We use the Standard Scaler to make sure each of our features are weighted equally when training our model."
   ]
  },
  {
   "cell_type": "code",
   "execution_count": 13,
   "metadata": {},
   "outputs": [],
   "source": [
    "from sklearn.tree import DecisionTreeClassifier\n",
    "from sklearn.model_selection import cross_val_score\n",
    "from sklearn.pipeline import make_pipeline\n",
    "from sklearn.preprocessing import StandardScaler"
   ]
  },
  {
   "cell_type": "markdown",
   "metadata": {},
   "source": [
    "In order to use Decision Tree Classifier, we need to tune the max_depth parameter. We can do this very elegantly by trying every possible depth from $1$ to $100$ and choosing the model which scores the most accurately on the data. From this approach, we find that the optimal depth is $10$. Nice!"
   ]
  },
  {
   "cell_type": "code",
   "execution_count": 14,
   "metadata": {},
   "outputs": [
    {
     "name": "stdout",
     "output_type": "stream",
     "text": [
      "Best Depth: 10.0\n"
     ]
    }
   ],
   "source": [
    "max_depths = np.linspace(1, 100, 100)\n",
    "best_depth = 1\n",
    "best_val = 0\n",
    "best_model = DecisionTreeClassifier(max_depth = 1)\n",
    "for depth in max_depths:\n",
    "    DTC = make_pipeline(StandardScaler(), DecisionTreeClassifier(max_depth = int(depth)))\n",
    "    DTC.fit(X_train, y_train)\n",
    "    val = cross_val_score(DTC, X_train, y_train, cv = 5).mean()\n",
    "    if val > best_val:\n",
    "        best_val = val\n",
    "        best_depth = depth\n",
    "        best_model = DTC\n",
    "print(\"Best Depth: {}\".format(best_depth))\n",
    "\n",
    "\n"
   ]
  },
  {
   "cell_type": "markdown",
   "metadata": {},
   "source": [
    "# Auditing the model\n",
    "Now that we've trained our model, we want to audit our model for implicit biases that it may have picked up from the data. We can first examine some overall features of the model and then examine those features by group to see where differences may be occuring.\n",
    "## Overall Measures\n",
    "We can first format our data as we did with the training set and then calculat ethe prediction accuracy. Our model appears to guess employment status correctly $82.4\\%$ of the time."
   ]
  },
  {
   "cell_type": "code",
   "execution_count": 15,
   "metadata": {},
   "outputs": [
    {
     "data": {
      "text/plain": [
       "0.8236533482256181"
      ]
     },
     "execution_count": 15,
     "metadata": {},
     "output_type": "execute_result"
    }
   ],
   "source": [
    "df = format_data(X_test, features_to_use, group_test, y_test)\n",
    "df['pred_employed'] = best_model.predict(X_test)\n",
    "df['correct_prediction'] = (df['employed'] == df['pred_employed'])\n",
    "# Prediction Accuracy\n",
    "df['correct_prediction'].mean()"
   ]
  },
  {
   "cell_type": "markdown",
   "metadata": {},
   "source": [
    "To break down where the model went wrong, we can exmaine the number of correct positive and negative predictions as well as incorrect positive and negative predictions. It appears that our model tends to incorrectly guess that a given employee is employed rather than unemployed, indicated by the $4474$ false positive (FP) guesses and the $2472$ false negative (FN) guesses."
   ]
  },
  {
   "cell_type": "code",
   "execution_count": 16,
   "metadata": {},
   "outputs": [
    {
     "data": {
      "text/plain": [
       "TN    16712\n",
       "TP    15735\n",
       "FN     2472\n",
       "FP     4475\n",
       "dtype: int64"
      ]
     },
     "execution_count": 16,
     "metadata": {},
     "output_type": "execute_result"
    }
   ],
   "source": [
    "df['TN'] = (df['employed'] == 0) & (df['pred_employed'] == 0)\n",
    "df['TP'] = (df['employed'] == 1) & (df['pred_employed'] == 1)\n",
    "df['FN'] = (df['employed'] == 1) & (df['pred_employed'] == 0)\n",
    "df['FP'] = (df['employed'] == 0) & (df['pred_employed'] == 1)\n",
    "df[['TN', 'TP', 'FN', 'FP']].sum()"
   ]
  },
  {
   "cell_type": "markdown",
   "metadata": {},
   "source": [
    "Using these values we can calculate the positive predictive value (PPV), which is defined by $$PPV = \\frac{TP}{TP + FP}$$ as well as the false positive rate $$FPR = \\frac{FP}{FP + TN}$$ and false negative rate $$FNR = \\frac{FN}{FN + TP}$$. We find these values to be $77.9\\%$, $21.1\\%$, and $13.6\\%$ respectively."
   ]
  },
  {
   "cell_type": "code",
   "execution_count": 17,
   "metadata": {},
   "outputs": [
    {
     "name": "stdout",
     "output_type": "stream",
     "text": [
      "0.7785749628896586 0.211214423939208 0.13577195584116\n"
     ]
    }
   ],
   "source": [
    "PPV = df['TP'].sum() / (df['TP'].sum() + df['FP'].sum())\n",
    "FPR = df['FP'].sum()/(df['FP'].sum() + df['TN'].sum())\n",
    "FNR = df['FN'].sum()/(df['FN'].sum() + df['TP'].sum())\n",
    "print(PPV, FPR, FNR)"
   ]
  },
  {
   "cell_type": "markdown",
   "metadata": {},
   "source": [
    "## By-Group Measures\n",
    "We can now look at the same quantities as above but sorted by group. Starting with accuracy, we notice that the model seems to be fairly consistent in its predictions with the exception of Asians who are only predicted correctly $80.0\\%$ of the time compares to the other groups who are predicted correctly roughly $82\\%$ of the time."
   ]
  },
  {
   "cell_type": "code",
   "execution_count": 18,
   "metadata": {},
   "outputs": [
    {
     "data": {
      "text/plain": [
       "group\n",
       "African American    0.820274\n",
       "Asian               0.795996\n",
       "Other Race          0.831117\n",
       "White               0.826688\n",
       "Name: correct_prediction, dtype: float64"
      ]
     },
     "execution_count": 18,
     "metadata": {},
     "output_type": "execute_result"
    }
   ],
   "source": [
    "df.groupby(\"group\")['correct_prediction'].mean()"
   ]
  },
  {
   "cell_type": "markdown",
   "metadata": {},
   "source": [
    "We calculate the positive and negative counts as by group as well, which we will need for our PPV, FPR, and FNR values. "
   ]
  },
  {
   "cell_type": "code",
   "execution_count": 19,
   "metadata": {},
   "outputs": [
    {
     "data": {
      "text/html": [
       "<div>\n",
       "<style scoped>\n",
       "    .dataframe tbody tr th:only-of-type {\n",
       "        vertical-align: middle;\n",
       "    }\n",
       "\n",
       "    .dataframe tbody tr th {\n",
       "        vertical-align: top;\n",
       "    }\n",
       "\n",
       "    .dataframe thead th {\n",
       "        text-align: right;\n",
       "    }\n",
       "</style>\n",
       "<table border=\"1\" class=\"dataframe\">\n",
       "  <thead>\n",
       "    <tr style=\"text-align: right;\">\n",
       "      <th></th>\n",
       "      <th>TP</th>\n",
       "      <th>TN</th>\n",
       "      <th>FP</th>\n",
       "      <th>FN</th>\n",
       "    </tr>\n",
       "    <tr>\n",
       "      <th>group</th>\n",
       "      <th></th>\n",
       "      <th></th>\n",
       "      <th></th>\n",
       "      <th></th>\n",
       "    </tr>\n",
       "  </thead>\n",
       "  <tbody>\n",
       "    <tr>\n",
       "      <th>African American</th>\n",
       "      <td>1800</td>\n",
       "      <td>2157</td>\n",
       "      <td>577</td>\n",
       "      <td>290</td>\n",
       "    </tr>\n",
       "    <tr>\n",
       "      <th>Asian</th>\n",
       "      <td>1539</td>\n",
       "      <td>1165</td>\n",
       "      <td>537</td>\n",
       "      <td>156</td>\n",
       "    </tr>\n",
       "    <tr>\n",
       "      <th>Other Race</th>\n",
       "      <td>1290</td>\n",
       "      <td>1648</td>\n",
       "      <td>402</td>\n",
       "      <td>195</td>\n",
       "    </tr>\n",
       "    <tr>\n",
       "      <th>White</th>\n",
       "      <td>11106</td>\n",
       "      <td>11742</td>\n",
       "      <td>2959</td>\n",
       "      <td>1831</td>\n",
       "    </tr>\n",
       "  </tbody>\n",
       "</table>\n",
       "</div>"
      ],
      "text/plain": [
       "                     TP     TN    FP    FN\n",
       "group                                     \n",
       "African American   1800   2157   577   290\n",
       "Asian              1539   1165   537   156\n",
       "Other Race         1290   1648   402   195\n",
       "White             11106  11742  2959  1831"
      ]
     },
     "execution_count": 19,
     "metadata": {},
     "output_type": "execute_result"
    }
   ],
   "source": [
    "df.groupby('group')[['TP', 'TN', 'FP', 'FN']].sum()"
   ]
  },
  {
   "cell_type": "markdown",
   "metadata": {},
   "source": [
    "Calculating the PPVs, we find that the values are fairly consistent with the White group having the highest value of $79.0\\%$ and the Asian group having the lowest predictive value of $74.1\\%$. This means that $79.0\\%$ of the White people that are predicted to be employed are actually employed and $74.1\\%$ of the Asian people that are predicted to be employed are actually employed."
   ]
  },
  {
   "cell_type": "code",
   "execution_count": 20,
   "metadata": {},
   "outputs": [
    {
     "data": {
      "text/plain": [
       "group\n",
       "African American    0.757257\n",
       "Asian               0.741329\n",
       "Other Race          0.762411\n",
       "White               0.789620\n",
       "dtype: float64"
      ]
     },
     "execution_count": 20,
     "metadata": {},
     "output_type": "execute_result"
    }
   ],
   "source": [
    "PPV = df.groupby('group')['TP'].sum() / (df.groupby('group')['TP'].sum() + df.groupby('group')['FP'].sum())\n",
    "PPV"
   ]
  },
  {
   "cell_type": "markdown",
   "metadata": {},
   "source": [
    "Calculating the FPR, we find that Asians are falsly predicted to be employed at a much higher rate than other groups with an FPR of $31.6\\%$. The reamining groups all have FPR values of roughly $20\\%$, indicating that our model may have a bias towards the Asian group. "
   ]
  },
  {
   "cell_type": "code",
   "execution_count": 21,
   "metadata": {},
   "outputs": [
    {
     "data": {
      "text/plain": [
       "group\n",
       "African American    0.211046\n",
       "Asian               0.315511\n",
       "Other Race          0.196098\n",
       "White               0.201279\n",
       "dtype: float64"
      ]
     },
     "execution_count": 21,
     "metadata": {},
     "output_type": "execute_result"
    }
   ],
   "source": [
    "FPR = df.groupby('group')['FP'].sum()/(df.groupby('group')['FP'].sum() + df.groupby('group')['TN'].sum())\n",
    "FPR"
   ]
  },
  {
   "cell_type": "markdown",
   "metadata": {},
   "source": [
    "The FNR rates closely resemble the trends seen in the FPR values, with each group having a value of roughly $13.5\\%$ with the exception fo the Asian group, which has an FNR of $9.2\\%$. This reinforces our observation that the model tends to overestimate the employment rate of the Asian group relative to the other groups."
   ]
  },
  {
   "cell_type": "code",
   "execution_count": 22,
   "metadata": {},
   "outputs": [
    {
     "data": {
      "text/plain": [
       "group\n",
       "African American    0.138756\n",
       "Asian               0.092035\n",
       "Other Race          0.131313\n",
       "White               0.141532\n",
       "dtype: float64"
      ]
     },
     "execution_count": 22,
     "metadata": {},
     "output_type": "execute_result"
    }
   ],
   "source": [
    "FNR = df.groupby('group')['FN'].sum()/(df.groupby('group')['FN'].sum() + df.groupby('group')['TP'].sum())\n",
    "FNR"
   ]
  },
  {
   "cell_type": "markdown",
   "metadata": {},
   "source": [
    "## Bias Measures\n",
    "In order to check for bias, we can evaluate our model based on three standards: calibration, error rate balance, and statistical parity.\n",
    "\n",
    "We can first examine calibration. A model is well calibrated if the prediction rates are consistent with the actual rates across racial groups. If we were to exclude the Asian group, we could say that our model is approximately calibrated. However, the Asian group has a significantly higher prediction rate than actual rate of employment, indicating poor calibration."
   ]
  },
  {
   "cell_type": "code",
   "execution_count": 23,
   "metadata": {},
   "outputs": [
    {
     "data": {
      "text/html": [
       "<div>\n",
       "<style scoped>\n",
       "    .dataframe tbody tr th:only-of-type {\n",
       "        vertical-align: middle;\n",
       "    }\n",
       "\n",
       "    .dataframe tbody tr th {\n",
       "        vertical-align: top;\n",
       "    }\n",
       "\n",
       "    .dataframe thead th {\n",
       "        text-align: right;\n",
       "    }\n",
       "</style>\n",
       "<table border=\"1\" class=\"dataframe\">\n",
       "  <thead>\n",
       "    <tr style=\"text-align: right;\">\n",
       "      <th></th>\n",
       "      <th>Prediction</th>\n",
       "      <th>True Rate</th>\n",
       "    </tr>\n",
       "    <tr>\n",
       "      <th>group</th>\n",
       "      <th></th>\n",
       "      <th></th>\n",
       "    </tr>\n",
       "  </thead>\n",
       "  <tbody>\n",
       "    <tr>\n",
       "      <th>African American</th>\n",
       "      <td>0.492745</td>\n",
       "      <td>0.433250</td>\n",
       "    </tr>\n",
       "    <tr>\n",
       "      <th>Asian</th>\n",
       "      <td>0.611127</td>\n",
       "      <td>0.498970</td>\n",
       "    </tr>\n",
       "    <tr>\n",
       "      <th>Other Race</th>\n",
       "      <td>0.478642</td>\n",
       "      <td>0.420085</td>\n",
       "    </tr>\n",
       "    <tr>\n",
       "      <th>White</th>\n",
       "      <td>0.508901</td>\n",
       "      <td>0.468087</td>\n",
       "    </tr>\n",
       "  </tbody>\n",
       "</table>\n",
       "</div>"
      ],
      "text/plain": [
       "                  Prediction  True Rate\n",
       "group                                  \n",
       "African American    0.492745   0.433250\n",
       "Asian               0.611127   0.498970\n",
       "Other Race          0.478642   0.420085\n",
       "White               0.508901   0.468087"
      ]
     },
     "execution_count": 23,
     "metadata": {},
     "output_type": "execute_result"
    }
   ],
   "source": [
    "# Calibration\n",
    "employed = df.groupby('group')['employed'].mean()\n",
    "predicted_employed = df.groupby('group')['pred_employed'].mean()\n",
    "pd.concat((predicted_employed, employed), axis = 1, keys = ['Prediction', 'True Rate'])"
   ]
  },
  {
   "cell_type": "markdown",
   "metadata": {},
   "source": [
    "Next we examine error rate parity, which evaluates if the FPR and FNR values are consistent with one another across groups. As with the calibration, three of the groups are fairly consistent with their FPR and FNR values, while the Asian group has a substantially higher FPR and a substantially lower FNR, indicating a poor error rate parity as well."
   ]
  },
  {
   "cell_type": "code",
   "execution_count": 24,
   "metadata": {},
   "outputs": [
    {
     "data": {
      "text/html": [
       "<div>\n",
       "<style scoped>\n",
       "    .dataframe tbody tr th:only-of-type {\n",
       "        vertical-align: middle;\n",
       "    }\n",
       "\n",
       "    .dataframe tbody tr th {\n",
       "        vertical-align: top;\n",
       "    }\n",
       "\n",
       "    .dataframe thead th {\n",
       "        text-align: right;\n",
       "    }\n",
       "</style>\n",
       "<table border=\"1\" class=\"dataframe\">\n",
       "  <thead>\n",
       "    <tr style=\"text-align: right;\">\n",
       "      <th></th>\n",
       "      <th>FPR</th>\n",
       "      <th>FNR</th>\n",
       "    </tr>\n",
       "    <tr>\n",
       "      <th>group</th>\n",
       "      <th></th>\n",
       "      <th></th>\n",
       "    </tr>\n",
       "  </thead>\n",
       "  <tbody>\n",
       "    <tr>\n",
       "      <th>African American</th>\n",
       "      <td>0.211046</td>\n",
       "      <td>0.138756</td>\n",
       "    </tr>\n",
       "    <tr>\n",
       "      <th>Asian</th>\n",
       "      <td>0.315511</td>\n",
       "      <td>0.092035</td>\n",
       "    </tr>\n",
       "    <tr>\n",
       "      <th>Other Race</th>\n",
       "      <td>0.196098</td>\n",
       "      <td>0.131313</td>\n",
       "    </tr>\n",
       "    <tr>\n",
       "      <th>White</th>\n",
       "      <td>0.201279</td>\n",
       "      <td>0.141532</td>\n",
       "    </tr>\n",
       "  </tbody>\n",
       "</table>\n",
       "</div>"
      ],
      "text/plain": [
       "                       FPR       FNR\n",
       "group                               \n",
       "African American  0.211046  0.138756\n",
       "Asian             0.315511  0.092035\n",
       "Other Race        0.196098  0.131313\n",
       "White             0.201279  0.141532"
      ]
     },
     "execution_count": 24,
     "metadata": {},
     "output_type": "execute_result"
    }
   ],
   "source": [
    "# Error Rate Parity\n",
    "pd.concat((FPR, FNR), axis = 1, keys = ['FPR', 'FNR'])"
   ]
  },
  {
   "cell_type": "markdown",
   "metadata": {},
   "source": [
    "Lastly we can check for statistical parity, which examines if the predicted employment rates between groups are equal to one another. A model that satisfies statistical parity would have an equal proportion of people predicted to be employed across each group. Our model also does not satisfy statistical parity, as the predicted rate of Asian employment is signficantly higher than the rate for the three other racial groups."
   ]
  },
  {
   "cell_type": "code",
   "execution_count": 25,
   "metadata": {},
   "outputs": [
    {
     "data": {
      "text/plain": [
       "group\n",
       "African American    0.492745\n",
       "Asian               0.611127\n",
       "Other Race          0.478642\n",
       "White               0.508901\n",
       "Name: pred_employed, dtype: float64"
      ]
     },
     "execution_count": 25,
     "metadata": {},
     "output_type": "execute_result"
    }
   ],
   "source": [
    "# Statistical Parity \n",
    "df.groupby('group')['pred_employed'].mean()"
   ]
  },
  {
   "cell_type": "markdown",
   "metadata": {},
   "source": [
    "Based on the paper \"Fair Prediction with Disparate Impact: A Study of Bias in Recidivism Prediction Instruments.\" by Alexandra Chouldechova, we can examine how fair our model has the potential to be by finding the optimal combinations of FNR and FPR rates. We can calculate the FPR using the FNR with the equation $$FPR = \\frac{p}{1 - p}\\frac{1 - PPV}{PPV}(1 - FNR)$$ where $p$ is the prevalence or actual employment rate. As an approximation to calibrate our results, we set the PPV to be the minimum PPV value between groups. In this case, we are only examining the White and Asian groups, so we use the Asian PPV as our value. We can add shading to the White line, which shows acceptable FPR values for the White group if we allow the the PPV of the White group to deviate by $\\delta = 0.5$, $0.1$, and $0.125$ from the PPV of the African American group. Based on the plot, if we desired to tune our classifier threshold so that the false positive rates were equal between races, we would need to increase the false negative rate of the Asiang group to roughly $0.2$. This is not a substantial change, indicating that we could achieve a fair outcome without much of a decrease in the accuracy of the model."
   ]
  },
  {
   "cell_type": "code",
   "execution_count": 27,
   "metadata": {},
   "outputs": [
    {
     "data": {
      "text/plain": [
       "<matplotlib.legend.Legend at 0x1d1b114dc70>"
      ]
     },
     "execution_count": 27,
     "metadata": {},
     "output_type": "execute_result"
    },
    {
     "data": {
      "image/png": "[encoded data removed]",
      "text/plain": [
       "<Figure size 640x480 with 1 Axes>"
      ]
     },
     "metadata": {},
     "output_type": "display_data"
    }
   ],
   "source": [
    "import matplotlib.pyplot as plt\n",
    "PPV_min = PPV[['Asian', 'White']].min()\n",
    "p = df.groupby('group')['employed'].mean()\n",
    "FNR_calc = np.linspace(0, 1, 50)\n",
    "FPR_calc = lambda p,FNR, PPV_min: (p/(1-p)) * ((1 - PPV_min)/PPV_min)*(1 - FNR)\n",
    "FPRs = [FPR_calc(ps, FNR_calc, PPV_min) for ps in p]\n",
    "for i, FPR in enumerate(FPRs):\n",
    "    if(p.index[i] in ['Asian', 'White']):\n",
    "        plt.plot(FNR_calc, FPR, label = p.index[i])\n",
    "        plt.scatter(FNR[i], FPR[i])\n",
    "plt.fill_between(FNR_calc, FPR_calc(p['White'], FNR_calc, PPV_min -0.05),FPR_calc(p['White'], FNR_calc, PPV_min +0.05), alpha = 0.1)\n",
    "plt.fill_between(FNR_calc, FPR_calc(p['White'], FNR_calc, PPV_min -0.1),FPR_calc(p['White'], FNR_calc, PPV_min +0.1), alpha = 0.2)\n",
    "plt.fill_between(FNR_calc, FPR_calc(p['White'], FNR_calc, PPV_min -0.125),FPR_calc(p['White'], FNR_calc, PPV_min +0.125), alpha = 0.4)\n",
    "plt.xlabel('False Negative Rate')\n",
    "plt.ylabel('False Positive Rate')\n",
    "plt.title('Feasible (FNR, FPR) Combinations')\n",
    "plt.legend()"
   ]
  },
  {
   "cell_type": "markdown",
   "metadata": {},
   "source": [
    "# Conclusion\n",
    "1. The discussion of employment prediction has numerous practical applications that could benefit or harm specific groups. For instance, landlords and bankers may want to be able to use this algorithm to determine whether or not to rent or give a loan to someone, as an employed person would be more likely to be able to make their payments on time. \n",
    "2. Based on our bias audit, this could be potentially harmful to certain groups, as we observed that certain groups were predicted to be employed at much higher rates than the other groups and also than the real employment rate. This could provide unfair advantages and disadvantages to specific groups based simply on their race. This is particularly troubling given that the actual rates of employment were fairly consistent between groups. If we were to deploy this on a large scale, our model could potentially enforce inequality between races and make it more difficult for certain groups to obtain necessary resources like a place to live or access to credit.\n",
    "3. Based on our bias audit, our model displays problematic bias of all three types, failing to satisfy calibration, error rate balance, and statistical parity. While there was general agreement between three of our groups, our fourth group deviated heavily in all three measurements. If we were to deploy this model on a large scale, we would need to somehow alter our model to account for the disparity with this group. \n",
    "4. Besides potential bias, this model has the potential to make decisions that could harm large groups of people. For starters, this model is built on the idea that we can generalize a subset of the population to the entire population based on a very select number of features. This is not necessarily true and could lead to the model making generalizations and decisions about groups based on certain traits that we have not considered. One way we could counteract this is by giving the model more training data and selecting more features to train the model on. The other issue with this model is that the ending result: guessing employment, could very easily be used to make harmful decisions based on unfair assumptions. Based on the renter example, people that are unemployed or perhaps are just predicted to be unemployed could have harder times finding a home, even if they were able to pay their rent on time consistently. A predictive model like this would just make it harder for groups of people that are likely already struggling due to their lack of employment. Because of this, we need to be very careful when implementing decision-making algorithms on a large scale."
   ]
  }
 ],
 "metadata": {
  "kernelspec": {
   "display_name": "Python 3",
   "language": "python",
   "name": "python3"
  },
  "language_info": {
   "codemirror_mode": {
    "name": "ipython",
    "version": 3
   },
   "file_extension": ".py",
   "mimetype": "text/x-python",
   "name": "python",
   "nbconvert_exporter": "python",
   "pygments_lexer": "ipython3",
   "version": "3.8.20"
  }
 },
 "nbformat": 4,
 "nbformat_minor": 2
}
